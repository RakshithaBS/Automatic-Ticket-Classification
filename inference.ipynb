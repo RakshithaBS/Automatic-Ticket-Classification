{
 "cells": [
  {
   "cell_type": "code",
   "execution_count": 17,
   "id": "2bd1ceef",
   "metadata": {},
   "outputs": [],
   "source": [
    "import requests\n",
    "import json"
   ]
  },
  {
   "cell_type": "code",
   "execution_count": 7,
   "id": "1f8b449d",
   "metadata": {},
   "outputs": [],
   "source": [
    "# passing a sample payload\n",
    "payload ={\"text\": \"I have transferred money from my account. But the transaction history doesn't seem to reflect it. Please check.\"}"
   ]
  },
  {
   "cell_type": "code",
   "execution_count": 19,
   "id": "231c2ae3",
   "metadata": {},
   "outputs": [
    {
     "data": {
      "text/plain": [
       "{'prediction': 'bank account services'}"
      ]
     },
     "execution_count": 19,
     "metadata": {},
     "output_type": "execute_result"
    }
   ],
   "source": [
    "# calling the predict endpoint \n",
    "# Please note that the flask application has to be running\n",
    "requests.post(\"http://127.0.0.1:5000/predict\",json=payload).json()"
   ]
  }
 ],
 "metadata": {
  "kernelspec": {
   "display_name": "Python 3 (ipykernel)",
   "language": "python",
   "name": "python3"
  },
  "language_info": {
   "codemirror_mode": {
    "name": "ipython",
    "version": 3
   },
   "file_extension": ".py",
   "mimetype": "text/x-python",
   "name": "python",
   "nbconvert_exporter": "python",
   "pygments_lexer": "ipython3",
   "version": "3.9.13"
  }
 },
 "nbformat": 4,
 "nbformat_minor": 5
}
